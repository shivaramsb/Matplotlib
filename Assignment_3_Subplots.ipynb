{
  "cells": [
    {
      "cell_type": "code",
      "execution_count": 2,
      "metadata": {
        "id": "uV2f1nUK2t_f"
      },
      "outputs": [],
      "source": [
        "# Dataset\n",
        "import matplotlib.pyplot as plt\n",
        "\n",
        "months = ['Jan', 'Feb', 'Mar', 'Apr', 'May', 'Jun', 'Jul', 'Aug', 'Sep', 'Oct', 'Nov', 'Dec']\n",
        "rainfall_city1 = [78, 54, 63, 70, 85, 90, 78, 84, 95, 102, 90, 75]\n",
        "rainfall_city2 = [60, 48, 55, 64, 70, 75, 65, 68, 80, 85, 75, 60]"
      ]
    },
    {
      "cell_type": "markdown",
      "metadata": {
        "id": "eEZduVY4WvUz"
      },
      "source": [
        "**1.Create a figure with two subplots arranged in 1 row and 2 columns**"
      ]
    },
    {
      "cell_type": "code",
      "execution_count": 3,
      "metadata": {
        "colab": {
          "base_uri": "https://localhost:8080/",
          "height": 451
        },
        "id": "LjyW1CEZXg1g",
        "outputId": "79b6a83e-88dd-496a-8932-a975be8889ea"
      },
      "outputs": [
        {
          "output_type": "display_data",
          "data": {
            "text/plain": [
              "<Figure size 1200x500 with 2 Axes>"
            ],
            "image/png": "[encoded data removed]"
          },
          "metadata": {}
        }
      ],
      "source": [
        "fig, (ax1, ax2) = plt.subplots(1, 2, figsize=(12, 5))\n"
      ]
    },
    {
      "cell_type": "markdown",
      "metadata": {
        "id": "BzS6mSOGW_xE"
      },
      "source": [
        "**2. Plot rainfall for city1 in the first subplot.**"
      ]
    },
    {
      "cell_type": "code",
      "execution_count": 12,
      "metadata": {
        "id": "9ebxJ4_FXoXr",
        "colab": {
          "base_uri": "https://localhost:8080/"
        },
        "outputId": "3ab521b7-4b9e-4e3d-a2ea-47144aa6e589"
      },
      "outputs": [
        {
          "output_type": "execute_result",
          "data": {
            "text/plain": [
              "[<matplotlib.lines.Line2D at 0x7d455ef78af0>]"
            ]
          },
          "metadata": {},
          "execution_count": 12
        }
      ],
      "source": [
        "ax1.plot(months, rainfall_city1, color='blue', label='City 1')\n"
      ]
    },
    {
      "cell_type": "markdown",
      "metadata": {
        "id": "JNcEyXXoW_0X"
      },
      "source": [
        "**3. Plot rainfall for city2 in the second subplot.**"
      ]
    },
    {
      "cell_type": "code",
      "execution_count": 13,
      "metadata": {
        "colab": {
          "base_uri": "https://localhost:8080/"
        },
        "id": "ucQnMI_BXsAK",
        "outputId": "c3c92290-913d-4f7d-b860-5e3ed38c7add"
      },
      "outputs": [
        {
          "output_type": "execute_result",
          "data": {
            "text/plain": [
              "[<matplotlib.lines.Line2D at 0x7d455ef79990>]"
            ]
          },
          "metadata": {},
          "execution_count": 13
        }
      ],
      "source": [
        "ax2.plot(months, rainfall_city2, color='green', label='City 2')\n"
      ]
    },
    {
      "cell_type": "markdown",
      "metadata": {
        "id": "YKnjqU7MW_3R"
      },
      "source": [
        "**4.Add titles to each subplot.**"
      ]
    },
    {
      "cell_type": "code",
      "execution_count": 14,
      "metadata": {
        "colab": {
          "base_uri": "https://localhost:8080/"
        },
        "id": "tSbk1oGAXvaz",
        "outputId": "103f0818-6a34-44e8-bbd9-6c217377818f"
      },
      "outputs": [
        {
          "output_type": "execute_result",
          "data": {
            "text/plain": [
              "Text(0.5, 1.0, 'City 2 Rainfall')"
            ]
          },
          "metadata": {},
          "execution_count": 14
        }
      ],
      "source": [
        "ax1.set_title('City 1 Rainfall')\n",
        "ax2.set_title('City 2 Rainfall')"
      ]
    },
    {
      "cell_type": "markdown",
      "metadata": {
        "id": "BdPY7W5eW_6K"
      },
      "source": [
        "**5. Add x and y axis labels to each subplot.**"
      ]
    },
    {
      "cell_type": "code",
      "execution_count": 7,
      "metadata": {
        "colab": {
          "base_uri": "https://localhost:8080/"
        },
        "id": "bCry0CgqXxcJ",
        "outputId": "7f03cea4-90b9-48c8-c2fa-f186c153e06f"
      },
      "outputs": [
        {
          "output_type": "execute_result",
          "data": {
            "text/plain": [
              "Text(511.7171717171717, 0.5, 'Rainfall (mm)')"
            ]
          },
          "metadata": {},
          "execution_count": 7
        }
      ],
      "source": [
        "ax1.set_xlabel('Month')\n",
        "ax1.set_ylabel('Rainfall (mm)')\n",
        "ax2.set_xlabel('Month')\n",
        "ax2.set_ylabel('Rainfall (mm)')"
      ]
    },
    {
      "cell_type": "markdown",
      "metadata": {
        "id": "rLhfIOnIW_9b"
      },
      "source": [
        "**6. Change the color of the lines in each subplot (already done in 2 and 3).**"
      ]
    },
    {
      "cell_type": "code",
      "execution_count": null,
      "metadata": {
        "id": "4QA0tTaUXyop"
      },
      "outputs": [],
      "source": [
        "\n"
      ]
    },
    {
      "cell_type": "markdown",
      "metadata": {
        "id": "9a-TUiAoXTJt"
      },
      "source": [
        "**7. Add a legend to each subplot.**"
      ]
    },
    {
      "cell_type": "code",
      "execution_count": 8,
      "metadata": {
        "colab": {
          "base_uri": "https://localhost:8080/"
        },
        "id": "n0fo7KVzXzVd",
        "outputId": "23c02956-abd8-4837-b2b6-081432c1df34"
      },
      "outputs": [
        {
          "output_type": "execute_result",
          "data": {
            "text/plain": [
              "<matplotlib.legend.Legend at 0x7d457b033370>"
            ]
          },
          "metadata": {},
          "execution_count": 8
        }
      ],
      "source": [
        "ax1.legend()\n",
        "ax2.legend()"
      ]
    },
    {
      "cell_type": "markdown",
      "metadata": {
        "id": "RoYNvVw9XTM9"
      },
      "source": [
        "**8. Adjust the layout to prevent overlap.**"
      ]
    },
    {
      "cell_type": "code",
      "execution_count": 9,
      "metadata": {
        "colab": {
          "base_uri": "https://localhost:8080/",
          "height": 34
        },
        "id": "C3K67-KdXz1o",
        "outputId": "8b072259-8d1d-4359-fbfa-276936a6e32d"
      },
      "outputs": [
        {
          "output_type": "display_data",
          "data": {
            "text/plain": [
              "<Figure size 640x480 with 0 Axes>"
            ]
          },
          "metadata": {}
        }
      ],
      "source": [
        "plt.tight_layout()\n"
      ]
    },
    {
      "cell_type": "markdown",
      "metadata": {
        "id": "bwB9qUewXTQJ"
      },
      "source": [
        "**9. Add a main title for the entire figure.**"
      ]
    },
    {
      "cell_type": "code",
      "execution_count": 10,
      "metadata": {
        "colab": {
          "base_uri": "https://localhost:8080/"
        },
        "id": "kQzHl0Y0X0cs",
        "outputId": "05cf2153-98f1-4da6-8613-0a1b82cffdfe"
      },
      "outputs": [
        {
          "output_type": "execute_result",
          "data": {
            "text/plain": [
              "Text(0.5, 0.98, 'Monthly Rainfall Comparison')"
            ]
          },
          "metadata": {},
          "execution_count": 10
        }
      ],
      "source": [
        "fig.suptitle('Monthly Rainfall Comparison', fontsize=16)\n"
      ]
    },
    {
      "cell_type": "markdown",
      "metadata": {
        "id": "3lTgH8SXXTV2"
      },
      "source": [
        "**10. Save the figure as a PNG file.**"
      ]
    },
    {
      "cell_type": "code",
      "execution_count": 15,
      "metadata": {
        "colab": {
          "base_uri": "https://localhost:8080/",
          "height": 34
        },
        "id": "Tp7fzeF0XfWl",
        "outputId": "b810c7c8-0b60-43aa-f475-3bf396097d62"
      },
      "outputs": [
        {
          "output_type": "display_data",
          "data": {
            "text/plain": [
              "<Figure size 640x480 with 0 Axes>"
            ]
          },
          "metadata": {}
        }
      ],
      "source": [
        "plt.savefig('subplots.png')\n"
      ]
    }
  ],
  "metadata": {
    "colab": {
      "provenance": []
    },
    "kernelspec": {
      "display_name": "Python 3",
      "name": "python3"
    },
    "language_info": {
      "name": "python"
    }
  },
  "nbformat": 4,
  "nbformat_minor": 0
}